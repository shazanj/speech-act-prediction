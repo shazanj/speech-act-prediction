{
 "cells": [
  {
   "cell_type": "code",
   "execution_count": 1,
   "metadata": {},
   "outputs": [
    {
     "ename": "ModuleNotFoundError",
     "evalue": "No module named 'bllipparser'",
     "output_type": "error",
     "traceback": [
      "\u001b[0;31m---------------------------------------------------------------------------\u001b[0m",
      "\u001b[0;31mModuleNotFoundError\u001b[0m                       Traceback (most recent call last)",
      "\u001b[0;32m<ipython-input-1-0cc47afa96df>\u001b[0m in \u001b[0;36m<module>\u001b[0;34m\u001b[0m\n\u001b[1;32m      2\u001b[0m \u001b[0;32mimport\u001b[0m \u001b[0mnltk\u001b[0m\u001b[0;34m\u001b[0m\u001b[0;34m\u001b[0m\u001b[0m\n\u001b[1;32m      3\u001b[0m \u001b[0;32mfrom\u001b[0m \u001b[0mnltk\u001b[0m\u001b[0;34m.\u001b[0m\u001b[0mdata\u001b[0m \u001b[0;32mimport\u001b[0m \u001b[0mfind\u001b[0m\u001b[0;34m\u001b[0m\u001b[0;34m\u001b[0m\u001b[0m\n\u001b[0;32m----> 4\u001b[0;31m \u001b[0;32mfrom\u001b[0m \u001b[0mbllipparser\u001b[0m \u001b[0;32mimport\u001b[0m \u001b[0mRerankingParser\u001b[0m\u001b[0;34m\u001b[0m\u001b[0;34m\u001b[0m\u001b[0m\n\u001b[0m\u001b[1;32m      5\u001b[0m \u001b[0;32mimport\u001b[0m \u001b[0mBill\u001b[0m\u001b[0;34m\u001b[0m\u001b[0;34m\u001b[0m\u001b[0m\n",
      "\u001b[0;31mModuleNotFoundError\u001b[0m: No module named 'bllipparser'"
     ]
    }
   ],
   "source": [
    "from nltk.corpus import gutenberg\n",
    "import nltk\n",
    "from nltk.data import find\n",
    "from bllipparser import RerankingParser\n",
    "import Bill"
   ]
  },
  {
   "cell_type": "code",
   "execution_count": null,
   "metadata": {},
   "outputs": [],
   "source": []
  },
  {
   "cell_type": "code",
   "execution_count": 14,
   "metadata": {},
   "outputs": [
    {
     "ename": "RuntimeError",
     "evalue": "Parser is already loaded and can only be loaded once.",
     "output_type": "error",
     "traceback": [
      "\u001b[0;31m---------------------------------------------------------------------------\u001b[0m",
      "\u001b[0;31mRuntimeError\u001b[0m                              Traceback (most recent call last)",
      "\u001b[0;32m<ipython-input-14-fa8f0f4a53af>\u001b[0m in \u001b[0;36m<module>\u001b[0;34m\u001b[0m\n\u001b[1;32m      1\u001b[0m \u001b[0mmodel_dir\u001b[0m \u001b[0;34m=\u001b[0m \u001b[0mfind\u001b[0m\u001b[0;34m(\u001b[0m\u001b[0;34m'models/bllip_wsj_no_aux'\u001b[0m\u001b[0;34m)\u001b[0m\u001b[0;34m.\u001b[0m\u001b[0mpath\u001b[0m\u001b[0;34m\u001b[0m\u001b[0;34m\u001b[0m\u001b[0m\n\u001b[0;32m----> 2\u001b[0;31m \u001b[0mparser\u001b[0m \u001b[0;34m=\u001b[0m \u001b[0mRerankingParser\u001b[0m\u001b[0;34m.\u001b[0m\u001b[0mfrom_unified_model_dir\u001b[0m\u001b[0;34m(\u001b[0m\u001b[0mmodel_dir\u001b[0m\u001b[0;34m)\u001b[0m\u001b[0;34m\u001b[0m\u001b[0;34m\u001b[0m\u001b[0m\n\u001b[0m",
      "\u001b[0;32m~/Desktop/speech-act/venv-speechact/lib/python3.7/site-packages/bllipparser/RerankingParser.py\u001b[0m in \u001b[0;36mfrom_unified_model_dir\u001b[0;34m(this_class, model_dir, parsing_options, reranker_options, parser_only)\u001b[0m\n\u001b[1;32m    869\u001b[0m         \u001b[0mrrp\u001b[0m \u001b[0;34m=\u001b[0m \u001b[0mthis_class\u001b[0m\u001b[0;34m(\u001b[0m\u001b[0;34m)\u001b[0m\u001b[0;34m\u001b[0m\u001b[0;34m\u001b[0m\u001b[0m\n\u001b[1;32m    870\u001b[0m         \u001b[0;32mif\u001b[0m \u001b[0mparser_model_dir\u001b[0m\u001b[0;34m:\u001b[0m\u001b[0;34m\u001b[0m\u001b[0;34m\u001b[0m\u001b[0m\n\u001b[0;32m--> 871\u001b[0;31m             \u001b[0mrrp\u001b[0m\u001b[0;34m.\u001b[0m\u001b[0mload_parser_model\u001b[0m\u001b[0;34m(\u001b[0m\u001b[0mparser_model_dir\u001b[0m\u001b[0;34m,\u001b[0m \u001b[0;34m**\u001b[0m\u001b[0mparsing_options\u001b[0m\u001b[0;34m)\u001b[0m\u001b[0;34m\u001b[0m\u001b[0;34m\u001b[0m\u001b[0m\n\u001b[0m\u001b[1;32m    872\u001b[0m         \u001b[0;32mif\u001b[0m \u001b[0mreranker_features_filename\u001b[0m \u001b[0;32mand\u001b[0m \u001b[0mreranker_weights_filename\u001b[0m \u001b[0;32mand\u001b[0m\u001b[0;31m \u001b[0m\u001b[0;31m\\\u001b[0m\u001b[0;34m\u001b[0m\u001b[0;34m\u001b[0m\u001b[0m\n\u001b[1;32m    873\u001b[0m            \u001b[0;32mnot\u001b[0m \u001b[0mparser_only\u001b[0m\u001b[0;34m:\u001b[0m\u001b[0;34m\u001b[0m\u001b[0;34m\u001b[0m\u001b[0m\n",
      "\u001b[0;32m~/Desktop/speech-act/venv-speechact/lib/python3.7/site-packages/bllipparser/RerankingParser.py\u001b[0m in \u001b[0;36mload_parser_model\u001b[0;34m(self, model_dir, terms_only, heads_only, **parser_options)\u001b[0m\n\u001b[1;32m    574\u001b[0m         be loaded but the full parsing model will not.\"\"\"\n\u001b[1;32m    575\u001b[0m         \u001b[0;32mif\u001b[0m \u001b[0mRerankingParser\u001b[0m\u001b[0;34m.\u001b[0m\u001b[0m_parser_model_loaded\u001b[0m\u001b[0;34m:\u001b[0m\u001b[0;34m\u001b[0m\u001b[0;34m\u001b[0m\u001b[0m\n\u001b[0;32m--> 576\u001b[0;31m             raise RuntimeError('Parser is already loaded and can only '\n\u001b[0m\u001b[1;32m    577\u001b[0m                                'be loaded once.')\n\u001b[1;32m    578\u001b[0m         \u001b[0mself\u001b[0m\u001b[0;34m.\u001b[0m\u001b[0m_check_path_or_error\u001b[0m\u001b[0;34m(\u001b[0m\u001b[0mmodel_dir\u001b[0m\u001b[0;34m,\u001b[0m \u001b[0;34m'Parser model directory'\u001b[0m\u001b[0;34m)\u001b[0m\u001b[0;34m\u001b[0m\u001b[0;34m\u001b[0m\u001b[0m\n",
      "\u001b[0;31mRuntimeError\u001b[0m: Parser is already loaded and can only be loaded once."
     ]
    }
   ],
   "source": [
    "model_dir = find('models/bllip_wsj_no_aux').path\n",
    "parser = BllipParser.from_unified_model_dir(model_dir)"
   ]
  },
  {
   "cell_type": "code",
   "execution_count": 15,
   "metadata": {},
   "outputs": [
    {
     "ename": "AttributeError",
     "evalue": "'RerankingParser' object has no attribute 'parse_one'",
     "output_type": "error",
     "traceback": [
      "\u001b[0;31m---------------------------------------------------------------------------\u001b[0m",
      "\u001b[0;31mAttributeError\u001b[0m                            Traceback (most recent call last)",
      "\u001b[0;32m<ipython-input-15-62facbeb7aab>\u001b[0m in \u001b[0;36m<module>\u001b[0;34m\u001b[0m\n\u001b[0;32m----> 1\u001b[0;31m \u001b[0mbest\u001b[0m \u001b[0;34m=\u001b[0m \u001b[0mparser\u001b[0m\u001b[0;34m.\u001b[0m\u001b[0mparse_one\u001b[0m\u001b[0;34m(\u001b[0m\u001b[0;34m\"The old oak tree from India fell down.\"\u001b[0m\u001b[0;34m)\u001b[0m\u001b[0;34m\u001b[0m\u001b[0;34m\u001b[0m\u001b[0m\n\u001b[0m",
      "\u001b[0;31mAttributeError\u001b[0m: 'RerankingParser' object has no attribute 'parse_one'"
     ]
    }
   ],
   "source": [
    "best = parser.parse_one(\"The old oak tree from India fell down.\")"
   ]
  },
  {
   "cell_type": "code",
   "execution_count": 12,
   "metadata": {},
   "outputs": [
    {
     "name": "stdout",
     "output_type": "stream",
     "text": [
      "-79.703612178593 -24.505514522222 (S1 (S (NP (NP (DT The) (JJ old) (NN oak) (NN tree)) (PP (IN from) (NP (NNP India)))) (VP (VBD fell) (ADVP (RB down))) (. .)))\n"
     ]
    }
   ],
   "source": [
    "#print(best.get_reranker_best())\n",
    "print(best.get_parser_best())"
   ]
  },
  {
   "cell_type": "code",
   "execution_count": 4,
   "metadata": {},
   "outputs": [
    {
     "name": "stdout",
     "output_type": "stream",
     "text": [
      "-80.435259246021 -23.831876011253 (S1 (S (NP (NP (DT The) (JJ old) (NN oak) (NN tree)) (PP (IN from) (NP (NNP India)))) (VP (VBD fell) (PRT (RP down))) (. .)))\n",
      "-79.703612178593 -24.505514522222 (S1 (S (NP (NP (DT The) (JJ old) (NN oak) (NN tree)) (PP (IN from) (NP (NNP India)))) (VP (VBD fell) (ADVP (RB down))) (. .)))\n"
     ]
    }
   ],
   "source": [
    "print(best.get_reranker_best())\n",
    "print(best.get_parser_best())"
   ]
  },
  {
   "cell_type": "code",
   "execution_count": 2,
   "metadata": {},
   "outputs": [],
   "source": [
    "files = gutenberg.fileids()\n",
    "emma_sentences = gutenberg.sents(files[0])"
   ]
  },
  {
   "cell_type": "code",
   "execution_count": 6,
   "metadata": {},
   "outputs": [
    {
     "ename": "NameError",
     "evalue": "name 'groucho_grammar' is not defined",
     "output_type": "error",
     "traceback": [
      "\u001b[0;31m---------------------------------------------------------------------------\u001b[0m",
      "\u001b[0;31mNameError\u001b[0m                                 Traceback (most recent call last)",
      "\u001b[0;32m<ipython-input-6-5dd1027fccd4>\u001b[0m in \u001b[0;36m<module>\u001b[0;34m\u001b[0m\n\u001b[0;32m----> 1\u001b[0;31m \u001b[0mparser\u001b[0m \u001b[0;34m=\u001b[0m \u001b[0mnltk\u001b[0m\u001b[0;34m.\u001b[0m\u001b[0mChartParser\u001b[0m\u001b[0;34m(\u001b[0m\u001b[0mgroucho_grammar\u001b[0m\u001b[0;34m,\u001b[0m \u001b[0mnltk\u001b[0m\u001b[0;34m.\u001b[0m\u001b[0mparse\u001b[0m\u001b[0;34m.\u001b[0m\u001b[0mBU_STRATEGY\u001b[0m\u001b[0;34m)\u001b[0m\u001b[0;34m\u001b[0m\u001b[0;34m\u001b[0m\u001b[0m\n\u001b[0m",
      "\u001b[0;31mNameError\u001b[0m: name 'groucho_grammar' is not defined"
     ]
    }
   ],
   "source": [
    "parser = nltk.ChartParser(groucho_grammar, nltk.parse.BU_STRATEGY)"
   ]
  },
  {
   "cell_type": "code",
   "execution_count": 3,
   "metadata": {},
   "outputs": [
    {
     "ename": "AttributeError",
     "evalue": "'list' object has no attribute 'chunked_sents'",
     "output_type": "error",
     "traceback": [
      "\u001b[0;31m---------------------------------------------------------------------------\u001b[0m",
      "\u001b[0;31mAttributeError\u001b[0m                            Traceback (most recent call last)",
      "\u001b[0;32m<ipython-input-3-6fba726c55de>\u001b[0m in \u001b[0;36m<module>\u001b[0;34m\u001b[0m\n\u001b[0;32m----> 1\u001b[0;31m \u001b[0memma_sentences\u001b[0m\u001b[0;34m[\u001b[0m\u001b[0;36m0\u001b[0m\u001b[0;34m]\u001b[0m\u001b[0;34m.\u001b[0m\u001b[0mchunked_sents\u001b[0m\u001b[0;34m(\u001b[0m\u001b[0;34m)\u001b[0m\u001b[0;34m\u001b[0m\u001b[0;34m\u001b[0m\u001b[0m\n\u001b[0m",
      "\u001b[0;31mAttributeError\u001b[0m: 'list' object has no attribute 'chunked_sents'"
     ]
    }
   ],
   "source": [
    "emma_sentences[0].chunked_sents()"
   ]
  },
  {
   "cell_type": "code",
   "execution_count": 31,
   "metadata": {},
   "outputs": [
    {
     "name": "stdout",
     "output_type": "stream",
     "text": [
      "['Do', 'not', 'you', 'begin', 'to', 'feel', 'that', 'now', '?']\n",
      "['Do', 'you', 'really', 'think', 'it', 'a', 'bad', 'thing', '?--', 'why', 'so', '?\"']\n",
      "['say', 'beautiful', 'rather', '.']\n",
      "['Let', 'me', 'entreat', 'you', ',', 'Miss', 'Woodhouse', ',', 'to', 'exercise', 'so', 'charming', 'a', 'talent', 'in', 'favour', 'of', 'your', 'friend', '.']\n",
      "['Keep', 'your', 'raptures', 'for', 'Harriet', \"'\", 's', 'face', '.']\n",
      "['Consider', ',', 'she', 'is', 'sitting', 'down', '--', 'which', 'naturally', 'presents', 'a', 'different', '--', 'which', 'in', 'short', 'gives', 'exactly', 'the', 'idea', '--', 'and', 'the', 'proportions', 'must', 'be', 'preserved', ',', 'you', 'know', '.']\n",
      "['Do', 'you', 'mean', 'with', 'regard', 'to', 'this', 'letter', '?\"']\n",
      "['think', 'a', 'farmer', ',', '(', 'and', 'with', 'all', 'his', 'sense', 'and', 'all', 'his', 'merit', 'Mr', '.', 'Martin', 'is', 'nothing', 'more', ',)', 'a', 'good', 'match', 'for', 'my', 'intimate', 'friend', '!']\n"
     ]
    }
   ],
   "source": [
    "x = 0\n",
    "for sent in emma_sentences:\n",
    "    #print(sent)\n",
    "    imperative_checker(sent)\n",
    "    x+=1\n",
    "    if x == 1000:\n",
    "        break\n",
    "    #break"
   ]
  },
  {
   "cell_type": "code",
   "execution_count": null,
   "metadata": {},
   "outputs": [],
   "source": []
  },
  {
   "cell_type": "code",
   "execution_count": 30,
   "metadata": {},
   "outputs": [],
   "source": [
    "def imperative_checker(sent):\n",
    "    #sent: input vector of words\n",
    "    #does the sentence has a verb in its base form\n",
    "    #rule #1 contains base verb without a subject\n",
    "    ptags = nltk.pos_tag(sent)\n",
    "    if ptags[0][1] == 'VB' and ptags[0][0] !='\"':\n",
    "        #print(ptags)\n",
    "        print(sent)\n",
    "    #pairs = [pair for pair in nltk.pos_tag(sent) if pair[1] == 'VB']\n",
    "    #if len(pairs)>1:\n",
    "    #    print(sent)"
   ]
  },
  {
   "cell_type": "code",
   "execution_count": null,
   "metadata": {},
   "outputs": [],
   "source": []
  }
 ],
 "metadata": {
  "kernelspec": {
   "display_name": "venv-sad",
   "language": "python",
   "name": "venv-sad"
  },
  "language_info": {
   "codemirror_mode": {
    "name": "ipython",
    "version": 3
   },
   "file_extension": ".py",
   "mimetype": "text/x-python",
   "name": "python",
   "nbconvert_exporter": "python",
   "pygments_lexer": "ipython3",
   "version": "3.7.6"
  }
 },
 "nbformat": 4,
 "nbformat_minor": 4
}
