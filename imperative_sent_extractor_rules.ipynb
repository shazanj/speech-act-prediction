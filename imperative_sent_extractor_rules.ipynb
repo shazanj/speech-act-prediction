{
 "cells": [
  {
   "cell_type": "code",
   "execution_count": 48,
   "metadata": {},
   "outputs": [],
   "source": [
    "#load libraries and environments\n",
    "import spacy\n",
    "from nltk.corpus import gutenberg\n",
    "nlp = spacy.load(\"en_core_web_lg\")"
   ]
  },
  {
   "cell_type": "code",
   "execution_count": 49,
   "metadata": {},
   "outputs": [],
   "source": [
    "#get books names from the Gutenberg corpus\n",
    "files = gutenberg.fileids()"
   ]
  },
  {
   "cell_type": "code",
   "execution_count": 50,
   "metadata": {},
   "outputs": [
    {
     "name": "stdout",
     "output_type": "stream",
     "text": [
      "Names of the sample books from Gutenberg are:\n",
      "\n",
      "1. austen-emma.txt\n",
      "2. austen-persuasion.txt\n",
      "3. austen-sense.txt\n",
      "4. bible-kjv.txt\n",
      "5. blake-poems.txt\n",
      "6. bryant-stories.txt\n",
      "7. burgess-busterbrown.txt\n",
      "8. carroll-alice.txt\n",
      "9. chesterton-ball.txt\n",
      "10. chesterton-brown.txt\n",
      "11. chesterton-thursday.txt\n",
      "12. edgeworth-parents.txt\n",
      "13. melville-moby_dick.txt\n",
      "14. milton-paradise.txt\n",
      "15. shakespeare-caesar.txt\n",
      "16. shakespeare-hamlet.txt\n",
      "17. shakespeare-macbeth.txt\n",
      "18. whitman-leaves.txt\n"
     ]
    }
   ],
   "source": [
    "#print the booknames\n",
    "print(\"Names of the sample books from Gutenberg are:\\n\")\n",
    "for i in range(len(files)):\n",
    "    print(str(i+1)+\". \"+files[i])"
   ]
  },
  {
   "cell_type": "code",
   "execution_count": 51,
   "metadata": {},
   "outputs": [],
   "source": [
    "#rule 1: Has a verb in it's lemma (base) form\n",
    "def verb_in_lemma(sent):\n",
    "    doc = nlp(sent)\n",
    "    for token in doc:\n",
    "        if token.pos_=='VERB' and token.text.lower() == token.lemma_:\n",
    "            return True"
   ]
  },
  {
   "cell_type": "code",
   "execution_count": 52,
   "metadata": {},
   "outputs": [],
   "source": [
    "#rule 2: Has a verb in its lemma (base) form and is the root\n",
    "def root_verb_in_lemma(sent):\n",
    "    doc = nlp(sent)\n",
    "    for token in doc:\n",
    "        if token.dep_=='ROOT' and token.pos_=='VERB' and token.text.lower() == token.lemma_:\n",
    "            print(token.text, token.lemma_, token.pos_, token.tag_, token.dep_, token.shape_, token.is_alpha, token.is_stop)\n",
    "            return True"
   ]
  },
  {
   "cell_type": "code",
   "execution_count": 53,
   "metadata": {},
   "outputs": [],
   "source": [
    "#rule 3: Has a verb in its lemma (base) form and is the root and does not have any subject child in it's dependency structure\n",
    "def root_verb_in_lemma_nosubj(sent):\n",
    "    doc = nlp(sent)\n",
    "    cond1 = False\n",
    "    cond2 = True\n",
    "    for token in doc:\n",
    "        if token.dep_=='ROOT' and token.pos_=='VERB' and token.text.lower() == token.lemma_:\n",
    "            cond1 = True\n",
    "            #print(token.text, token.lemma_, token.pos_, token.tag_, token.dep_, token.shape_, token.is_alpha, token.is_stop)\n",
    "        if token.dep_ == 'nsubj':\n",
    "            cond2 = False   \n",
    "    return (cond1 and cond2)"
   ]
  },
  {
   "cell_type": "code",
   "execution_count": 56,
   "metadata": {},
   "outputs": [],
   "source": [
    "#filter sentences from gutenberg ebooks\n",
    "for f in files:\n",
    "    sentences = gutenberg.sents(f)\n",
    "    i = 0\n",
    "    for s in sentences:\n",
    "        sent = \" \".join(s)\n",
    "        if root_verb_in_lemma_nosubj(sent):\n",
    "            #print(sent)\n",
    "            i+=1\n",
    "            #print(\"\\n\")\n",
    "        if i ==10:\n",
    "            break"
   ]
  },
  {
   "cell_type": "code",
   "execution_count": 57,
   "metadata": {},
   "outputs": [],
   "source": [
    "#sample sentences to test rules\n",
    "sent1 = \"Book me an appointment with my doctor!\"\n",
    "sent2 = \"Ana, book me an appointment with my doctor!\"\n",
    "\n",
    "sent3 = \"Did you book an appointment with my doctor?\"\n",
    "sent4 = \"Doctor cancelled my appointment\""
   ]
  },
  {
   "cell_type": "code",
   "execution_count": 61,
   "metadata": {},
   "outputs": [
    {
     "name": "stdout",
     "output_type": "stream",
     "text": [
      "Sent 1 is imperative? True\n",
      "Sent 2 is imperative? True\n",
      "Sent 3 is imperative? False\n",
      "Sent 4 is imperative? False\n"
     ]
    }
   ],
   "source": [
    "print(\"Sent 1 is imperative? \"+str(root_verb_in_lemma_nosubj(sent1)))\n",
    "print(\"Sent 2 is imperative? \"+str(root_verb_in_lemma_nosubj(sent2)))\n",
    "print(\"Sent 3 is imperative? \"+str(root_verb_in_lemma_nosubj(sent3)))\n",
    "print(\"Sent 4 is imperative? \"+str(root_verb_in_lemma_nosubj(sent4)))"
   ]
  },
  {
   "cell_type": "code",
   "execution_count": null,
   "metadata": {},
   "outputs": [],
   "source": []
  }
 ],
 "metadata": {
  "kernelspec": {
   "display_name": "venv-sad",
   "language": "python",
   "name": "venv-sad"
  },
  "language_info": {
   "codemirror_mode": {
    "name": "ipython",
    "version": 3
   },
   "file_extension": ".py",
   "mimetype": "text/x-python",
   "name": "python",
   "nbconvert_exporter": "python",
   "pygments_lexer": "ipython3",
   "version": "3.7.6"
  }
 },
 "nbformat": 4,
 "nbformat_minor": 4
}
